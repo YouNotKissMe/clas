{
 "cells": [
  {
   "cell_type": "code",
   "execution_count": 13,
   "metadata": {
    "collapsed": true
   },
   "outputs": [],
   "source": [
    "from PIL import Image\n",
    "from numpy import array\n",
    "import pandas as pd\n",
    "from sklearn.cluster import KMeans\n",
    "import os"
   ]
  },
  {
   "cell_type": "code",
   "execution_count": 14,
   "outputs": [
    {
     "data": {
      "text/plain": "Empty DataFrame\nColumns: [filename, matrix, label]\nIndex: []",
      "text/html": "<div>\n<style scoped>\n    .dataframe tbody tr th:only-of-type {\n        vertical-align: middle;\n    }\n\n    .dataframe tbody tr th {\n        vertical-align: top;\n    }\n\n    .dataframe thead th {\n        text-align: right;\n    }\n</style>\n<table border=\"1\" class=\"dataframe\">\n  <thead>\n    <tr style=\"text-align: right;\">\n      <th></th>\n      <th>filename</th>\n      <th>matrix</th>\n      <th>label</th>\n    </tr>\n  </thead>\n  <tbody>\n  </tbody>\n</table>\n</div>"
     },
     "execution_count": 14,
     "metadata": {},
     "output_type": "execute_result"
    }
   ],
   "source": [
    "data = pd.DataFrame(columns=['filename','matrix','label'])\n",
    "data"
   ],
   "metadata": {
    "collapsed": false
   }
  },
  {
   "cell_type": "code",
   "execution_count": 15,
   "outputs": [
    {
     "data": {
      "text/plain": "   filename                                             matrix label\n0  0000.png  [[[180, 218, 241], [182, 220, 243], [181, 219,...      \n1  0001.png  [[[85, 64, 14], [87, 70, 16], [97, 76, 21], [1...      \n2  0002.png  [[[99, 103, 102], [92, 96, 95], [89, 93, 92], ...      \n3  0003.png  [[[152, 179, 222], [147, 174, 216], [152, 177,...      \n4  0004.png  [[[136, 154, 134], [134, 151, 132], [134, 149,...      \n5  0005.png  [[255, 255, 255, 255, 255, 255, 255, 253, 250,...      \n6  0006.png  [[[32, 33, 35], [30, 31, 33], [30, 30, 34], [2...      \n7  0007.png  [[[249, 249, 249], [249, 249, 249], [249, 249,...      \n8  0008.png  [[[88, 81, 71], [87, 80, 70], [86, 82, 73], [8...      \n9  0009.png  [[[0, 0, 0], [0, 0, 0], [0, 0, 0], [0, 0, 0], ...      ",
      "text/html": "<div>\n<style scoped>\n    .dataframe tbody tr th:only-of-type {\n        vertical-align: middle;\n    }\n\n    .dataframe tbody tr th {\n        vertical-align: top;\n    }\n\n    .dataframe thead th {\n        text-align: right;\n    }\n</style>\n<table border=\"1\" class=\"dataframe\">\n  <thead>\n    <tr style=\"text-align: right;\">\n      <th></th>\n      <th>filename</th>\n      <th>matrix</th>\n      <th>label</th>\n    </tr>\n  </thead>\n  <tbody>\n    <tr>\n      <th>0</th>\n      <td>0000.png</td>\n      <td>[[[180, 218, 241], [182, 220, 243], [181, 219,...</td>\n      <td></td>\n    </tr>\n    <tr>\n      <th>1</th>\n      <td>0001.png</td>\n      <td>[[[85, 64, 14], [87, 70, 16], [97, 76, 21], [1...</td>\n      <td></td>\n    </tr>\n    <tr>\n      <th>2</th>\n      <td>0002.png</td>\n      <td>[[[99, 103, 102], [92, 96, 95], [89, 93, 92], ...</td>\n      <td></td>\n    </tr>\n    <tr>\n      <th>3</th>\n      <td>0003.png</td>\n      <td>[[[152, 179, 222], [147, 174, 216], [152, 177,...</td>\n      <td></td>\n    </tr>\n    <tr>\n      <th>4</th>\n      <td>0004.png</td>\n      <td>[[[136, 154, 134], [134, 151, 132], [134, 149,...</td>\n      <td></td>\n    </tr>\n    <tr>\n      <th>5</th>\n      <td>0005.png</td>\n      <td>[[255, 255, 255, 255, 255, 255, 255, 253, 250,...</td>\n      <td></td>\n    </tr>\n    <tr>\n      <th>6</th>\n      <td>0006.png</td>\n      <td>[[[32, 33, 35], [30, 31, 33], [30, 30, 34], [2...</td>\n      <td></td>\n    </tr>\n    <tr>\n      <th>7</th>\n      <td>0007.png</td>\n      <td>[[[249, 249, 249], [249, 249, 249], [249, 249,...</td>\n      <td></td>\n    </tr>\n    <tr>\n      <th>8</th>\n      <td>0008.png</td>\n      <td>[[[88, 81, 71], [87, 80, 70], [86, 82, 73], [8...</td>\n      <td></td>\n    </tr>\n    <tr>\n      <th>9</th>\n      <td>0009.png</td>\n      <td>[[[0, 0, 0], [0, 0, 0], [0, 0, 0], [0, 0, 0], ...</td>\n      <td></td>\n    </tr>\n  </tbody>\n</table>\n</div>"
     },
     "execution_count": 15,
     "metadata": {},
     "output_type": "execute_result"
    }
   ],
   "source": [
    "files= os.listdir('pic')\n",
    "    # =array(Image.open('pic/0000.png'))\n",
    "for i in range(len(files)):\n",
    "    data.loc[i] = [files[i],array(Image.open(f'pic/{files[i]}')),'']\n",
    "data"
   ],
   "metadata": {
    "collapsed": false
   }
  },
  {
   "cell_type": "code",
   "execution_count": null,
   "outputs": [],
   "source": [
    "model = KMeans(n_clusters=983,random_state=0).fit(data['matrix'])\n",
    "data['label'] = model.labels_"
   ],
   "metadata": {
    "collapsed": false
   }
  }
 ],
 "metadata": {
  "kernelspec": {
   "display_name": "Python 3",
   "language": "python",
   "name": "python3"
  },
  "language_info": {
   "codemirror_mode": {
    "name": "ipython",
    "version": 2
   },
   "file_extension": ".py",
   "mimetype": "text/x-python",
   "name": "python",
   "nbconvert_exporter": "python",
   "pygments_lexer": "ipython2",
   "version": "2.7.6"
  }
 },
 "nbformat": 4,
 "nbformat_minor": 0
}
